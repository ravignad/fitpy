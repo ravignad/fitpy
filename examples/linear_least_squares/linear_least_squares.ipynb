{
 "cells": [
  {
   "cell_type": "markdown",
   "id": "a67f687c-7c4e-48b7-baa9-23b23a932a35",
   "metadata": {},
   "source": [
    "# Fit data with a linear least squares method"
   ]
  },
  {
   "cell_type": "code",
   "execution_count": null,
   "id": "c9b3a611-5491-49a8-b390-b2a48670d10d",
   "metadata": {},
   "outputs": [],
   "source": [
    "import numpy as np\n",
    "import matplotlib.pyplot as plt"
   ]
  },
  {
   "cell_type": "markdown",
   "id": "b433238c-3359-4b2f-b4c7-28632a707afe",
   "metadata": {},
   "source": [
    "LikeFit can be installed with: `pip install likefit`"
   ]
  },
  {
   "cell_type": "code",
   "execution_count": null,
   "id": "a59a72fc-7f5d-4455-a8d0-f00fd7393181",
   "metadata": {},
   "outputs": [],
   "source": [
    "import likefit"
   ]
  },
  {
   "cell_type": "markdown",
   "id": "6bd8d936-548f-482f-8d8a-97736ebcf720",
   "metadata": {},
   "source": [
    "## Data"
   ]
  },
  {
   "cell_type": "code",
   "execution_count": null,
   "id": "c0be5e14-056e-4cd0-8698-de3b078565f7",
   "metadata": {},
   "outputs": [],
   "source": [
    "xdata = np.array([-0.18, -0.14, -0.1, -0.06, -0.02,  0.02,  0.06,  0.1,  0.14])\n",
    "ydata = np.array([2.243, 2.217, 2.201, 2.175, 2.132, 2.116, 2.083, 2.016, 2.004])\n",
    "ysigma = np.array([0.008, 0.008, 0.01, 0.009, 0.011, 0.016, 0.018, 0.021, 0.017])"
   ]
  },
  {
   "cell_type": "markdown",
   "id": "af6b4747-d87b-4143-84e0-142e4d960618",
   "metadata": {},
   "source": [
    "## Fit model "
   ]
  },
  {
   "cell_type": "markdown",
   "id": "beb29133-a367-4643-a498-31e16f7b3473",
   "metadata": {},
   "source": [
    "The fit model has two arguments:\n",
    "- x: the independent variable\n",
    "- par: an array with the fit parameters\n",
    "\n",
    "LikeFit currently supports only a single independent variable x. To ensure the smooth processing by LikeFit, the fit model has to be vectorized in x. This means it has to accept a one-dimensional array containing n values of x and return an array with n values of the fit model. "
   ]
  },
  {
   "cell_type": "code",
   "execution_count": null,
   "id": "1c48a026-21a3-41f1-a296-ea8f729cbdc6",
   "metadata": {},
   "outputs": [],
   "source": [
    "def fit_model(x, par):\n",
    "    return par[0] + par[1] * x"
   ]
  },
  {
   "cell_type": "markdown",
   "id": "9e3d9760-d48e-4398-b755-e5af5c479644",
   "metadata": {},
   "source": [
    "## Fitter construction"
   ]
  },
  {
   "cell_type": "markdown",
   "id": "ef625b0c-0f32-46cb-ab0d-1f2c36711624",
   "metadata": {},
   "source": [
    "As the independent variable y follows a normal distribution and the fit model is linear in the fit parameters, we select a LinearLeastSquares fitter. We load the data and the fit model in the fitter but do not fit yet."
   ]
  },
  {
   "cell_type": "code",
   "execution_count": null,
   "id": "a6164ee9-5b8f-47eb-8379-f6efe7592ea5",
   "metadata": {},
   "outputs": [],
   "source": [
    "fitter = likefit.LinearLeastSquares(xdata, ydata, ysigma, fit_model)"
   ]
  },
  {
   "cell_type": "markdown",
   "id": "2395adb4-a29e-4695-a4bf-86fd6d209676",
   "metadata": {},
   "source": [
    "## Fit the data"
   ]
  },
  {
   "cell_type": "markdown",
   "id": "91476d6c-c568-411a-a9fb-7f8d0bf9e8bb",
   "metadata": {},
   "source": [
    "We now run the fitter. All the results are stored internally within the fitter object."
   ]
  },
  {
   "cell_type": "code",
   "execution_count": null,
   "id": "103c9336-0f6e-47c8-ad90-cc4f7b288aba",
   "metadata": {},
   "outputs": [],
   "source": [
    "fitter.fit()"
   ]
  },
  {
   "cell_type": "markdown",
   "id": "08abfff6-f817-4b05-96b6-762f06463a1d",
   "metadata": {},
   "source": [
    "## Fit results"
   ]
  },
  {
   "cell_type": "markdown",
   "id": "f73c10a7-7115-4baa-ae9c-b3f9b5e2e78f",
   "metadata": {},
   "source": [
    "We print a summary of the fit results"
   ]
  },
  {
   "cell_type": "code",
   "execution_count": null,
   "id": "991d2b99-86eb-4c3f-a592-f3d4ce864f31",
   "metadata": {},
   "outputs": [],
   "source": [
    "fitter.print_results()"
   ]
  },
  {
   "cell_type": "markdown",
   "id": "31fa0cd2-31b1-4fa9-83bd-26626ce4cb22",
   "metadata": {},
   "source": [
    "Different fit results can be retrieved from the fitter. For example, we will get the estimators and their errors and print them in a nice format. "
   ]
  },
  {
   "cell_type": "code",
   "execution_count": null,
   "id": "44c3b2f5-5d8c-40ac-aa28-524f9ef9da65",
   "metadata": {},
   "outputs": [],
   "source": [
    "estimators = fitter.get_estimators()\n",
    "errors = fitter.get_errors()\n",
    "print(f\"Intercept: {estimators[0]:.4f} ± {errors[0]:.4f}\")\n",
    "print(f\"Slope: {estimators[1]:.3f} ± {errors[1]:.3f}\")"
   ]
  },
  {
   "cell_type": "markdown",
   "id": "b4331894-22c2-4257-891d-9087990380f4",
   "metadata": {},
   "source": [
    "We also report the correlation coefficient between the estimators of the two fit parameters. We pick up the correlation coefficient from the correlation matrix."
   ]
  },
  {
   "cell_type": "code",
   "execution_count": null,
   "id": "2f356881-97f7-4f7d-a223-fe53f61cfe82",
   "metadata": {},
   "outputs": [],
   "source": [
    "correlation_matrix = fitter.get_correlation_matrix()\n",
    "correlation_coefficient = correlation_matrix[1,0]\n",
    "print(f\"Correlation coefficient: {correlation_coefficient:.2f}\")"
   ]
  },
  {
   "cell_type": "markdown",
   "id": "095b85db-3410-4b34-aa54-d829ca9953dd",
   "metadata": {},
   "source": [
    "Finally evaluate the goodness of the fit with a chi-square test."
   ]
  },
  {
   "cell_type": "code",
   "execution_count": null,
   "id": "1aa39b39-c60c-4c0a-8540-bf2e4480c2ff",
   "metadata": {},
   "outputs": [],
   "source": [
    "degrees_of_freedom = fitter.get_ndof()\n",
    "print(f\"Degrees of freedom: {degrees_of_freedom}\")\n",
    "chi_square = fitter.get_deviance()\n",
    "print(f\"Observed chi-square: {chi_square:.1f}\")\n",
    "pvalue = fitter.get_pvalue()\n",
    "print(f\"Pvalue: {pvalue:.2f}\")"
   ]
  },
  {
   "cell_type": "markdown",
   "id": "b40972e9-6c36-43c7-939f-226d7662ed5b",
   "metadata": {},
   "source": [
    "We used the get_deviance() method to obtain the chi-square of the fit. The deviance is a statistic that reduces to the known chi-square one for a linear least squares fit. The value is far from zero meaning that the model is consistent with the data"
   ]
  },
  {
   "cell_type": "markdown",
   "id": "0ada21f9-ec99-491b-9c15-3d455b240854",
   "metadata": {},
   "source": [
    "## Fit plot"
   ]
  },
  {
   "cell_type": "markdown",
   "id": "faf73eb6-c09d-42f7-8c64-bdc0b294a026",
   "metadata": {},
   "source": [
    "LikeFit provides a method to display a basic fit plot. In addition to the data and the fit, the plot also shows the error band of the fit. "
   ]
  },
  {
   "cell_type": "code",
   "execution_count": null,
   "id": "fb8445a4-8a64-46dd-920f-5b8efecdee1b",
   "metadata": {
    "scrolled": true
   },
   "outputs": [],
   "source": [
    "fitter.plot_fit()"
   ]
  },
  {
   "cell_type": "markdown",
   "id": "505680bf-487b-46e4-a85a-3a4ee1fcbab8",
   "metadata": {},
   "source": [
    "LikeFit provides some methods to help you display customised plots. Let us plot the fit and the residuals in the same figure."
   ]
  },
  {
   "cell_type": "code",
   "execution_count": null,
   "id": "032a2861-2959-4201-b14e-d44537fedb1a",
   "metadata": {},
   "outputs": [],
   "source": [
    "fig = plt.figure(figsize=(6,6))\n",
    "ax1, ax2 = fig.subplots(2, sharex=True)\n",
    "ax1.set_ylabel(\"Fit\")\n",
    "ax2.set_ylabel(\"Residual\")\n",
    "ax2.set_xlabel(\"x\")\n",
    "\n",
    "# Plot data \n",
    "ax1.errorbar(xdata, ydata, ysigma, ls='none', marker='o', label=\"Data\")\n",
    "\n",
    "# Plot fit \n",
    "xfit = np.linspace(xdata.min(), xdata.max())\n",
    "yfit = fitter.get_yfit(xfit)\n",
    "ax1.plot(xfit, yfit, ls='--', label=\"Fit\")\n",
    "\n",
    "# Plot error band\n",
    "yfit_error = fitter.get_yfit_error(xfit)\n",
    "ax1.fill_between(xfit, yfit - yfit_error, yfit + yfit_error, color='tab:orange', alpha=0.2)\n",
    "\n",
    "ax1.legend()\n",
    "\n",
    "# Bottom plot\n",
    "residuals = fitter.get_residuals()\n",
    "ax2.plot(xdata, residuals, marker='o', ls='')\n",
    "\n",
    "# Plot horizontal line at y=0\n",
    "ax2.axhline(ls='--')\n"
   ]
  },
  {
   "cell_type": "markdown",
   "id": "d88a877a-5817-4d28-9a5a-93712f000370",
   "metadata": {},
   "source": [
    "## Cost function plot"
   ]
  },
  {
   "cell_type": "markdown",
   "id": "9c8c3d69-7134-440e-a31b-f153ef167e15",
   "metadata": {},
   "source": [
    "We finally plot a density map of the cost function. The parameters to display are selected by their index. This is useful when the model has more than 2 parameters. The contours of the 1σ and 2σ confidence regions are shown."
   ]
  },
  {
   "cell_type": "code",
   "execution_count": null,
   "id": "bbb977fd-b669-4b10-a262-8457d5228a43",
   "metadata": {
    "scrolled": true
   },
   "outputs": [],
   "source": [
    "fitter.plot_confidence_regions(parx_index=0, pary_index=1, xlabel=\"Intercept\", ylabel=\"Slope\")"
   ]
  }
 ],
 "metadata": {
  "kernelspec": {
   "display_name": "Python 3 (ipykernel)",
   "language": "python",
   "name": "python3"
  },
  "language_info": {
   "codemirror_mode": {
    "name": "ipython",
    "version": 3
   },
   "file_extension": ".py",
   "mimetype": "text/x-python",
   "name": "python",
   "nbconvert_exporter": "python",
   "pygments_lexer": "ipython3",
   "version": "3.10.4"
  }
 },
 "nbformat": 4,
 "nbformat_minor": 5
}
