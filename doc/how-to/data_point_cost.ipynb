{
 "cells": [
  {
   "cell_type": "markdown",
   "id": "4b35c5fd",
   "metadata": {},
   "source": [
    "# Compare the Poisson and least squares costs \n"
   ]
  },
  {
   "cell_type": "markdown",
   "id": "161496d1",
   "metadata": {},
   "source": [
    "The costs correspond to a single data point. They show the effect of fitting an histogram with a Poisson likelihood or least squares"
   ]
  },
  {
   "cell_type": "code",
   "execution_count": 1,
   "id": "58b64e17",
   "metadata": {},
   "outputs": [],
   "source": [
    "import math\n",
    "import numpy as np\n",
    "import matplotlib.pyplot as plt\n",
    "import ipywidgets as widgets\n",
    "import likefit"
   ]
  },
  {
   "cell_type": "markdown",
   "id": "8328bb52",
   "metadata": {},
   "source": [
    "## Plot the cost for an observed number of events"
   ]
  },
  {
   "cell_type": "code",
   "execution_count": 2,
   "id": "f5bdbac0",
   "metadata": {},
   "outputs": [],
   "source": [
    "def plot_cost(nevents):\n",
    "    \n",
    "    fig, ax = plt.subplots()\n",
    "    ax.set_xlabel('$\\mu$', fontsize='x-large')\n",
    "    ax.set_ylabel('$J(\\mu)$', fontsize='x-large')\n",
    "    ymax = 4    # maximum value to plot in the vertical axis\n",
    "\n",
    "    # Set the μ range to be plotted \n",
    "    delta = 3 * math.sqrt(nevents)\n",
    "    mu_min = max(0.1, nevents-delta)\n",
    "    mu_max = max(nevents+delta, 10)\n",
    "    mu = np.linspace(mu_min, mu_max, num=100)\n",
    "    \n",
    "    # Plot Poisson cost\n",
    "    poisson_cost = likefit.poisson_cost(mu, nevents)\n",
    "    plot_mask = poisson_cost < ymax    # select data to plot\n",
    "    ax.plot(mu[plot_mask], poisson_cost[plot_mask], label=\"Poisson\")\n",
    "\n",
    "    # Plot normal cost\n",
    "    error = math.sqrt(nevents)\n",
    "    normal_cost = likefit.normal_cost(mu, nevents, error)\n",
    "    ax.plot(mu[plot_mask], normal_cost[plot_mask], ls='--', label=\"Normal\")\n",
    "\n",
    "    ax.axhline(ls='--', color='tab:grey')\n",
    "    ax.axhline(1, ls='--', color='tab:grey')\n",
    "\n",
    "    ax.legend()"
   ]
  },
  {
   "cell_type": "markdown",
   "id": "7c56e496",
   "metadata": {},
   "source": [
    "## Interactive plot "
   ]
  },
  {
   "cell_type": "markdown",
   "id": "a195bf6c",
   "metadata": {},
   "source": [
    "The number of observed events can be changed with a slide bar to show their corresponding cost functions. \n",
    "The minimum number of events is 1 as the normal cost diverges for zero events."
   ]
  },
  {
   "cell_type": "code",
   "execution_count": 3,
   "id": "167009cb",
   "metadata": {},
   "outputs": [
    {
     "data": {
      "application/vnd.jupyter.widget-view+json": {
       "model_id": "5ccb9f91a5604759aabfda21b8c93bc6",
       "version_major": 2,
       "version_minor": 0
      },
      "text/plain": [
       "HBox(children=(Output(), VBox(children=(Label(value='Number of events', layout=Layout(display='flex', justify_…"
      ]
     },
     "metadata": {},
     "output_type": "display_data"
    }
   ],
   "source": [
    "nevents = widgets.IntSlider(value=10, min=1, max=50, step=1)\n",
    "parameters = {\"nevents\": nevents}\n",
    "out = widgets.interactive_output(plot_cost, parameters)\n",
    "title = widgets.Label(\n",
    "    \"Number of events\",\n",
    "    layout=widgets.Layout(display=\"flex\", justify_content=\"center\"),\n",
    ")\n",
    "sliders = [title, *parameters.values()]\n",
    "\n",
    "display(\n",
    "    widgets.HBox(\n",
    "        [out, widgets.VBox(sliders)],\n",
    "        layout=widgets.Layout(width=\"100%\", display=\"flex\", align_items=\"center\"),\n",
    "    )\n",
    ")"
   ]
  },
  {
   "cell_type": "markdown",
   "id": "bf84364d",
   "metadata": {},
   "source": [
    "The Poisson and normal costs are close for many observed events."
   ]
  }
 ],
 "metadata": {
  "kernelspec": {
   "display_name": "Python 3 (ipykernel)",
   "language": "python",
   "name": "python3"
  },
  "language_info": {
   "codemirror_mode": {
    "name": "ipython",
    "version": 3
   },
   "file_extension": ".py",
   "mimetype": "text/x-python",
   "name": "python",
   "nbconvert_exporter": "python",
   "pygments_lexer": "ipython3",
   "version": "3.10.12"
  }
 },
 "nbformat": 4,
 "nbformat_minor": 5
}
