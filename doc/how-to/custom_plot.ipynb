{
 "cells": [
  {
   "cell_type": "markdown",
   "id": "a67f687c-7c4e-48b7-baa9-23b23a932a35",
   "metadata": {},
   "source": [
    "# Fit data with a linear least squares method"
   ]
  },
  {
   "cell_type": "markdown",
   "id": "44eb7731-fa8b-4563-a877-79476cbbcff2",
   "metadata": {},
   "source": [
    "## Data"
   ]
  },
  {
   "cell_type": "code",
   "execution_count": null,
   "id": "f5b97a99-757e-4426-bf76-d51b6d59c96c",
   "metadata": {},
   "outputs": [],
   "source": [
    "import numpy as np\n",
    "xdata = np.array([-0.18, -0.14, -0.1, -0.06, -0.02,  0.02,  0.06,  0.1,  0.14])\n",
    "ydata = np.array([2.243, 2.217, 2.201, 2.175, 2.132, 2.116, 2.083, 2.016, 2.004])\n",
    "ysigma = np.array([0.008, 0.008, 0.01, 0.009, 0.011, 0.016, 0.018, 0.021, 0.017])"
   ]
  },
  {
   "cell_type": "markdown",
   "id": "af6b4747-d87b-4143-84e0-142e4d960618",
   "metadata": {},
   "source": [
    "## Fit model "
   ]
  },
  {
   "cell_type": "code",
   "execution_count": null,
   "id": "1c48a026-21a3-41f1-a296-ea8f729cbdc6",
   "metadata": {},
   "outputs": [],
   "source": [
    "def fit_model(x: np.array, par: np.array) -> np.array:\n",
    "    return par[0] + par[1] * x"
   ]
  },
  {
   "cell_type": "markdown",
   "id": "9e3d9760-d48e-4398-b755-e5af5c479644",
   "metadata": {},
   "source": [
    "## Fitter construction"
   ]
  },
  {
   "cell_type": "code",
   "execution_count": null,
   "id": "a6164ee9-5b8f-47eb-8379-f6efe7592ea5",
   "metadata": {},
   "outputs": [],
   "source": [
    "import likefit\n",
    "fitter = likefit.LinearLeastSquares(xdata, ydata, ysigma, fit_model)\n",
    "fitter.fit()"
   ]
  },
  {
   "cell_type": "markdown",
   "id": "0ada21f9-ec99-491b-9c15-3d455b240854",
   "metadata": {},
   "source": [
    "## Fit plot"
   ]
  },
  {
   "cell_type": "markdown",
   "id": "505680bf-487b-46e4-a85a-3a4ee1fcbab8",
   "metadata": {},
   "source": [
    "LikeFit provides some methods to help you display customised plots. Let us plot the fit and the residuals in the same figure."
   ]
  },
  {
   "cell_type": "code",
   "execution_count": null,
   "id": "032a2861-2959-4201-b14e-d44537fedb1a",
   "metadata": {},
   "outputs": [],
   "source": [
    "fig = plt.figure(figsize=(6,6))\n",
    "ax1, ax2 = fig.subplots(2, sharex=True)\n",
    "ax1.set_ylabel(\"Fit\")\n",
    "ax2.set_ylabel(\"Residual\")\n",
    "ax2.set_xlabel(\"x\")\n",
    "\n",
    "# Plot data \n",
    "ax1.errorbar(xdata, ydata, ysigma, ls='none', marker='o', label=\"Data\")\n",
    "\n",
    "# Plot fit \n",
    "xfit = np.linspace(xdata.min(), xdata.max())\n",
    "yfit = fitter.get_yfit(xfit)\n",
    "ax1.plot(xfit, yfit, ls='--', label=\"Fit\")\n",
    "\n",
    "# Plot error band\n",
    "yfit_error = fitter.get_yfit_error(xfit)\n",
    "ax1.fill_between(xfit, yfit - yfit_error, yfit + yfit_error, color='tab:orange', alpha=0.2)\n",
    "\n",
    "ax1.legend()\n",
    "\n",
    "# Bottom plot\n",
    "residuals = fitter.get_residuals()\n",
    "ax2.plot(xdata, residuals, marker='o', ls='')\n",
    "\n",
    "# Plot horizontal line at y=0\n",
    "ax2.axhline(ls='--')"
   ]
  }
 ],
 "metadata": {
  "kernelspec": {
   "display_name": "Python 3 (ipykernel)",
   "language": "python",
   "name": "python3"
  },
  "language_info": {
   "codemirror_mode": {
    "name": "ipython",
    "version": 3
   },
   "file_extension": ".py",
   "mimetype": "text/x-python",
   "name": "python",
   "nbconvert_exporter": "python",
   "pygments_lexer": "ipython3",
   "version": "3.10.12"
  }
 },
 "nbformat": 4,
 "nbformat_minor": 5
}
